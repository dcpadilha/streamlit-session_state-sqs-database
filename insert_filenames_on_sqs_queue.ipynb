{
 "cells": [
  {
   "cell_type": "code",
   "execution_count": null,
   "metadata": {
    "pycharm": {
     "name": "#%%\n"
    }
   },
   "outputs": [],
   "source": [
    "import os\n",
    "import boto3\n",
    "\n",
    "from dotenv import load_dotenv, find_dotenv\n",
    "\n",
    "load_dotenv(find_dotenv())"
   ]
  },
  {
   "cell_type": "code",
   "execution_count": null,
   "metadata": {
    "pycharm": {
     "name": "#%%\n"
    }
   },
   "outputs": [],
   "source": [
    "filenames = os.listdir('PetImages/')\n",
    "sqs_client = boto3.client('sqs', aws_access_key_id=os.getenv('AWS_ACCESS_KEY'),\n",
    "                          aws_secret_access_key=os.getenv('AWS_SECRET_KEY'),\n",
    "\t\t\t\t\t\t  region_name=os.getenv('AWS_REGION'))\n",
    "sqs_queue_url = os.getenv('AWS_SQS_ANNOTATOR_QUEUE')"
   ]
  },
  {
   "cell_type": "code",
   "execution_count": null,
   "metadata": {
    "pycharm": {
     "name": "#%%\n"
    }
   },
   "outputs": [],
   "source": [
    "for filename in filenames:\n",
    "\tpet_dict = {'filename': filename}\n",
    "\tresponse = sqs_client.send_message(QueueUrl=sqs_queue_url, MessageBody=(f'{pet_dict}'))\n",
    "\tprint(response)"
   ]
  }
 ],
 "metadata": {
  "kernelspec": {
   "display_name": "Python 3",
   "language": "python",
   "name": "python3"
  },
  "language_info": {
   "codemirror_mode": {
    "name": "ipython",
    "version": 3
   },
   "file_extension": ".py",
   "mimetype": "text/x-python",
   "name": "python",
   "nbconvert_exporter": "python",
   "pygments_lexer": "ipython3",
   "version": "3.7.4"
  }
 },
 "nbformat": 4,
 "nbformat_minor": 1
}