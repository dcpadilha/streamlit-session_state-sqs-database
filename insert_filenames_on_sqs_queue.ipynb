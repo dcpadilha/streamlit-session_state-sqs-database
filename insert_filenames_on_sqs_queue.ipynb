{
 "cells": [
  {
   "cell_type": "code",
   "execution_count": 47,
   "outputs": [
    {
     "data": {
      "text/plain": "True"
     },
     "execution_count": 47,
     "metadata": {},
     "output_type": "execute_result"
    }
   ],
   "source": [
    "import os\n",
    "import boto3\n",
    "\n",
    "from dotenv import load_dotenv, find_dotenv\n",
    "\n",
    "load_dotenv(find_dotenv())"
   ],
   "metadata": {
    "collapsed": false,
    "pycharm": {
     "name": "#%%\n"
    }
   }
  },
  {
   "cell_type": "code",
   "execution_count": 48,
   "outputs": [],
   "source": [
    "filenames = os.listdir('PetImages/')\n",
    "sqs_client = boto3.client('sqs', aws_access_key_id=os.getenv('AWS_ACCESS_KEY'),\n",
    "                          aws_secret_access_key=os.getenv('AWS_SECRET_KEY'),\n",
    "\t\t\t\t\t\t  region_name=os.getenv('AWS_REGION'))\n",
    "sqs_queue_url = os.getenv('AWS_SQS_ANNOTATOR_QUEUE')"
   ],
   "metadata": {
    "collapsed": false,
    "pycharm": {
     "name": "#%%\n"
    }
   }
  },
  {
   "cell_type": "code",
   "execution_count": 55,
   "outputs": [
    {
     "name": "stdout",
     "output_type": "stream",
     "text": [
      "{'MD5OfMessageBody': '5e57b5a7b3d0dd28795e23303ed9246c', 'MessageId': 'dc405194-3d73-48c0-8ac2-8100ae7b3e41', 'ResponseMetadata': {'RequestId': '5689fc79-8b71-5fce-9fab-ab191ca1f906', 'HTTPStatusCode': 200, 'HTTPHeaders': {'x-amzn-requestid': '5689fc79-8b71-5fce-9fab-ab191ca1f906', 'date': 'Sun, 14 Jun 2020 21:24:32 GMT', 'content-type': 'text/xml', 'content-length': '378'}, 'RetryAttempts': 0}}\n",
      "{'MD5OfMessageBody': '38327867bf6b2c36b09099e977d4ed12', 'MessageId': 'ef6462aa-3dda-49c2-b829-70f5447c74c2', 'ResponseMetadata': {'RequestId': '9a59830c-1d8e-5ee6-ab01-d46c8a5e982e', 'HTTPStatusCode': 200, 'HTTPHeaders': {'x-amzn-requestid': '9a59830c-1d8e-5ee6-ab01-d46c8a5e982e', 'date': 'Sun, 14 Jun 2020 21:24:33 GMT', 'content-type': 'text/xml', 'content-length': '378'}, 'RetryAttempts': 0}}\n",
      "{'MD5OfMessageBody': '16bfcab8d750a1f48f3ed6248a3b9a13', 'MessageId': '7cd95889-40b9-4596-b1f0-c9c709cb8dec', 'ResponseMetadata': {'RequestId': 'b40a664f-3552-5172-b3a9-312fa28357ba', 'HTTPStatusCode': 200, 'HTTPHeaders': {'x-amzn-requestid': 'b40a664f-3552-5172-b3a9-312fa28357ba', 'date': 'Sun, 14 Jun 2020 21:24:33 GMT', 'content-type': 'text/xml', 'content-length': '378'}, 'RetryAttempts': 0}}\n",
      "{'MD5OfMessageBody': '76319704225ac9d8f8d693c2220c2e09', 'MessageId': '13bd027c-d218-461c-a2d5-40e03d7d6e9d', 'ResponseMetadata': {'RequestId': '46775785-d718-591f-800b-00e540c98fd7', 'HTTPStatusCode': 200, 'HTTPHeaders': {'x-amzn-requestid': '46775785-d718-591f-800b-00e540c98fd7', 'date': 'Sun, 14 Jun 2020 21:24:33 GMT', 'content-type': 'text/xml', 'content-length': '378'}, 'RetryAttempts': 0}}\n",
      "{'MD5OfMessageBody': '57a1ad451aca32c95eece350564d872b', 'MessageId': '08bc5c50-19cd-4a2b-b0bb-b95198f07148', 'ResponseMetadata': {'RequestId': '629dd75f-1f8b-57d2-a50d-803f885ac11a', 'HTTPStatusCode': 200, 'HTTPHeaders': {'x-amzn-requestid': '629dd75f-1f8b-57d2-a50d-803f885ac11a', 'date': 'Sun, 14 Jun 2020 21:24:33 GMT', 'content-type': 'text/xml', 'content-length': '378'}, 'RetryAttempts': 0}}\n",
      "{'MD5OfMessageBody': '3505a6a3cddc307e7afad8476b15eb1b', 'MessageId': 'bad7013a-124b-4645-9d91-46507ace7e23', 'ResponseMetadata': {'RequestId': '9d32840c-d8f4-5b1c-be66-d36c4f258dd4', 'HTTPStatusCode': 200, 'HTTPHeaders': {'x-amzn-requestid': '9d32840c-d8f4-5b1c-be66-d36c4f258dd4', 'date': 'Sun, 14 Jun 2020 21:24:33 GMT', 'content-type': 'text/xml', 'content-length': '378'}, 'RetryAttempts': 0}}\n",
      "{'MD5OfMessageBody': '83f19050d6f4f98a3dc54ba558599b79', 'MessageId': '0bcf2a82-9283-4f0e-b692-7acb34e595fa', 'ResponseMetadata': {'RequestId': '15055b18-6d3c-51c2-9056-0c78faed570a', 'HTTPStatusCode': 200, 'HTTPHeaders': {'x-amzn-requestid': '15055b18-6d3c-51c2-9056-0c78faed570a', 'date': 'Sun, 14 Jun 2020 21:24:33 GMT', 'content-type': 'text/xml', 'content-length': '378'}, 'RetryAttempts': 0}}\n",
      "{'MD5OfMessageBody': '84a3dd51deb544885769717ccf3b1ba5', 'MessageId': 'dabe7a19-31d9-4cfe-9365-d3863daae490', 'ResponseMetadata': {'RequestId': '4b8b040a-9704-5b4f-88a2-536a00d63d87', 'HTTPStatusCode': 200, 'HTTPHeaders': {'x-amzn-requestid': '4b8b040a-9704-5b4f-88a2-536a00d63d87', 'date': 'Sun, 14 Jun 2020 21:24:34 GMT', 'content-type': 'text/xml', 'content-length': '378'}, 'RetryAttempts': 0}}\n",
      "{'MD5OfMessageBody': '29e9bdd2791723d76e7d3237c0158549', 'MessageId': '4c13268c-d700-4b01-a003-38113a15735e', 'ResponseMetadata': {'RequestId': '1d43b8f2-b831-5dbc-b9b1-ef922fe3ab74', 'HTTPStatusCode': 200, 'HTTPHeaders': {'x-amzn-requestid': '1d43b8f2-b831-5dbc-b9b1-ef922fe3ab74', 'date': 'Sun, 14 Jun 2020 21:24:34 GMT', 'content-type': 'text/xml', 'content-length': '378'}, 'RetryAttempts': 0}}\n",
      "{'MD5OfMessageBody': '912a65ae55803b9382fd863f8f6eedb3', 'MessageId': '6828af29-2e0b-4ebc-96ca-5aa0cac47631', 'ResponseMetadata': {'RequestId': 'a3e8a1e2-5581-594a-81c2-f682c253bf82', 'HTTPStatusCode': 200, 'HTTPHeaders': {'x-amzn-requestid': 'a3e8a1e2-5581-594a-81c2-f682c253bf82', 'date': 'Sun, 14 Jun 2020 21:24:34 GMT', 'content-type': 'text/xml', 'content-length': '378'}, 'RetryAttempts': 0}}\n",
      "{'MD5OfMessageBody': '0acbcddbed6a3c2edd75055f99c54cfa', 'MessageId': 'b0f93eb5-8dda-4036-9ccf-fadaf0247992', 'ResponseMetadata': {'RequestId': 'efdcb39a-a342-5243-b33b-e4fa3490748b', 'HTTPStatusCode': 200, 'HTTPHeaders': {'x-amzn-requestid': 'efdcb39a-a342-5243-b33b-e4fa3490748b', 'date': 'Sun, 14 Jun 2020 21:24:34 GMT', 'content-type': 'text/xml', 'content-length': '378'}, 'RetryAttempts': 0}}\n",
      "{'MD5OfMessageBody': '9ff14ae65cee9ad45152fc08295a3c4c', 'MessageId': '8f111d53-2d52-4205-af82-ac4eafd8551f', 'ResponseMetadata': {'RequestId': '9d954606-b38a-5216-94f6-11662458e4de', 'HTTPStatusCode': 200, 'HTTPHeaders': {'x-amzn-requestid': '9d954606-b38a-5216-94f6-11662458e4de', 'date': 'Sun, 14 Jun 2020 21:24:34 GMT', 'content-type': 'text/xml', 'content-length': '378'}, 'RetryAttempts': 0}}\n",
      "{'MD5OfMessageBody': '7ed736837d1675ef07f4362ffdce4661', 'MessageId': 'b402ef2f-1208-4d90-bda3-3e43f7832977', 'ResponseMetadata': {'RequestId': 'af67c657-8919-524b-830d-91371ecab483', 'HTTPStatusCode': 200, 'HTTPHeaders': {'x-amzn-requestid': 'af67c657-8919-524b-830d-91371ecab483', 'date': 'Sun, 14 Jun 2020 21:24:35 GMT', 'content-type': 'text/xml', 'content-length': '378'}, 'RetryAttempts': 0}}\n",
      "{'MD5OfMessageBody': 'cc5908ddce9a5b8f8817f3719d4686f7', 'MessageId': '563df854-f38f-4787-a5f7-b34cfa04d3c1', 'ResponseMetadata': {'RequestId': '27353603-3204-5552-9e93-6163a5d7b39a', 'HTTPStatusCode': 200, 'HTTPHeaders': {'x-amzn-requestid': '27353603-3204-5552-9e93-6163a5d7b39a', 'date': 'Sun, 14 Jun 2020 21:24:35 GMT', 'content-type': 'text/xml', 'content-length': '378'}, 'RetryAttempts': 0}}\n"
     ]
    }
   ],
   "source": [
    "for filename in filenames:\n",
    "\tpet_dict = {'filename': filename}\n",
    "\tresponse = sqs_client.send_message(QueueUrl=sqs_queue_url, MessageBody=(f'{pet_dict}'))\n",
    "\tprint(response)"
   ],
   "metadata": {
    "collapsed": false,
    "pycharm": {
     "name": "#%%\n"
    }
   }
  }
 ],
 "metadata": {
  "kernelspec": {
   "display_name": "Python 3",
   "language": "python",
   "name": "python3"
  },
  "language_info": {
   "codemirror_mode": {
    "name": "ipython",
    "version": 2
   },
   "file_extension": ".py",
   "mimetype": "text/x-python",
   "name": "python",
   "nbconvert_exporter": "python",
   "pygments_lexer": "ipython2",
   "version": "2.7.6"
  }
 },
 "nbformat": 4,
 "nbformat_minor": 0
}